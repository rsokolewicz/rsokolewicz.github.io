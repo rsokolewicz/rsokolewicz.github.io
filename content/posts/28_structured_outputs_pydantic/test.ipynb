{
 "cells": [
  {
   "cell_type": "code",
   "execution_count": 4,
   "metadata": {},
   "outputs": [
    {
     "data": {
      "text/plain": [
       "True"
      ]
     },
     "execution_count": 4,
     "metadata": {},
     "output_type": "execute_result"
    }
   ],
   "source": [
    "from dotenv import load_dotenv\n",
    "\n",
    "load_dotenv()\n"
   ]
  },
  {
   "cell_type": "code",
   "execution_count": 22,
   "metadata": {},
   "outputs": [],
   "source": [
    "from pydantic import BaseModel\n",
    "from textwrap import dedent\n",
    "from openai import OpenAI\n",
    "\n",
    "client = OpenAI()\n",
    "MODEL = \"gpt-4o-mini\"\n",
    "\n",
    "integral_solver_prompt = \"\"\"\n",
    "    You are a calculus expert capable of solving indefinite integrals\n",
    "    step-by-step. Given an integral problem, provide a detailed solution\n",
    "    including each integration step and the final answer. For each step, provide\n",
    "    the mathematical expression and an explanation of the rule or technique\n",
    "    used.\n",
    "\"\"\"\n",
    "\n",
    "\n",
    "class IntegralSolution(BaseModel):\n",
    "    class Step(BaseModel):\n",
    "        explanation: str\n",
    "        \"\"\"A brief explanation of the step. Please use LaTeX for the\n",
    "        mathematical expressions. use $..$ to enclose\n",
    "        inline expressions and $$..$$ to enclose block expressions.\"\"\"\n",
    "        expression: str\n",
    "        \"\"\"\n",
    "        A mathematical step in LaTeX.\n",
    "        e.g., \"$$ \\int_0^1{2x + 3} dx = \\int_0^1{2x} dx + \\int_0^1{3} dx $$\"\n",
    "        \"\"\"\n",
    "\n",
    "    steps: list[Step]\n",
    "    final_answer: str\n",
    "    \"\"\"\n",
    "    e.g., \"$$x^2 + 3x + C$$\"\n",
    "    \"\"\"\n",
    "\n",
    "\n",
    "def solve_integral(integral_problem: str) -> IntegralSolution:\n",
    "    \"\"\"\n",
    "    Solves an indefinite integral using an LLM and provides step-by-step reasoning.\n",
    "\n",
    "    Parameters\n",
    "    ----------\n",
    "    integral_problem : str\n",
    "        The integral problem to solve (e.g., \"∫(2x + 3) dx\").\n",
    "\n",
    "    Returns\n",
    "    -------\n",
    "    IntegralSolution | None\n",
    "        A Pydantic object containing the steps and final answer, or None if parsing fails.\n",
    "    \"\"\"\n",
    "    completion = client.beta.chat.completions.parse(\n",
    "        model=MODEL,\n",
    "        messages=[\n",
    "            {\"role\": \"system\", \"content\": dedent(integral_solver_prompt)},\n",
    "            {\n",
    "                \"role\": \"user\",\n",
    "                \"content\": f\"Solve the following integral: {integral_problem}\",\n",
    "            },\n",
    "        ],\n",
    "        response_format=IntegralSolution,\n",
    "    )\n",
    "    return completion.choices[0].message.parsed"
   ]
  },
  {
   "cell_type": "code",
   "execution_count": 23,
   "metadata": {},
   "outputs": [
    {
     "data": {
      "text/markdown": [
       "We will use integration by parts to solve the integral. The formula for integration by parts is \\( \\int u \\, dv = uv - \\int v \\, du \\). We choose \\( u = x^2 \\) and \\( dv = \\sin(2x) \\, dx \\)."
      ],
      "text/plain": [
       "<IPython.core.display.Markdown object>"
      ]
     },
     "metadata": {},
     "output_type": "display_data"
    },
    {
     "data": {
      "text/markdown": [
       "u = x^2, \\, dv = \\sin(2x) \\, dx."
      ],
      "text/plain": [
       "<IPython.core.display.Markdown object>"
      ]
     },
     "metadata": {},
     "output_type": "display_data"
    },
    {
     "name": "stdout",
     "output_type": "stream",
     "text": [
      "\n"
     ]
    },
    {
     "data": {
      "text/markdown": [
       "Next, we compute \\( du \\) and \\( v \\). The derivative of \\( u \\) gives us \\( du = 2x \\, dx \\). To find \\( v \\), we integrate \\( dv \\): \\( v = -\\frac{1}{2} \\cos(2x) \\)."
      ],
      "text/plain": [
       "<IPython.core.display.Markdown object>"
      ]
     },
     "metadata": {},
     "output_type": "display_data"
    },
    {
     "data": {
      "text/markdown": [
       "du = 2x \\, dx, \\, v = -\\frac{1}{2} \\cos(2x)."
      ],
      "text/plain": [
       "<IPython.core.display.Markdown object>"
      ]
     },
     "metadata": {},
     "output_type": "display_data"
    },
    {
     "name": "stdout",
     "output_type": "stream",
     "text": [
      "\n"
     ]
    },
    {
     "data": {
      "text/markdown": [
       "Now we apply the integration by parts formula: \\( \\int x^2 \\sin(2x) \\, dx = uv - \\int v \\, du \\). Therefore, we have: \\( -\\frac{1}{2} x^2 \\cos(2x) \\Big|_0^1 + \\frac{1}{2} \\int 2x \\cos(2x) \\, dx \\)."
      ],
      "text/plain": [
       "<IPython.core.display.Markdown object>"
      ]
     },
     "metadata": {},
     "output_type": "display_data"
    },
    {
     "data": {
      "text/markdown": [
       "-\\frac{1}{2} x^2 \\cos(2x) \\Big|_0^1 + \\int x \\cos(2x) \\, dx."
      ],
      "text/plain": [
       "<IPython.core.display.Markdown object>"
      ]
     },
     "metadata": {},
     "output_type": "display_data"
    },
    {
     "name": "stdout",
     "output_type": "stream",
     "text": [
      "\n"
     ]
    },
    {
     "data": {
      "text/markdown": [
       "Next, we first evaluate the boundary term: Evaluate \\( -\\frac{1}{2} x^2 \\cos(2x) \\) at the limits \\(0\\) to \\(1\\): When \\( x = 1 \\): -\\frac{1}{2} \\cdot 1^2 \\cdot \\cos(2) \\), and when \\( x = 0 \\): -0. Thus we have: -\\frac{1}{2} \\cos(2)."
      ],
      "text/plain": [
       "<IPython.core.display.Markdown object>"
      ]
     },
     "metadata": {},
     "output_type": "display_data"
    },
    {
     "data": {
      "text/markdown": [
       "-\\frac{1}{2} [1^2 \\cos(2) - 0] = -\\frac{1}{2} \\cos(2)."
      ],
      "text/plain": [
       "<IPython.core.display.Markdown object>"
      ]
     },
     "metadata": {},
     "output_type": "display_data"
    },
    {
     "name": "stdout",
     "output_type": "stream",
     "text": [
      "\n"
     ]
    },
    {
     "data": {
      "text/markdown": [
       "Now we compute the remaining integral \\( \\int x \\cos(2x) \\, dx \\) using integration by parts again. Let \\( u = x \\) and \\( dv = \\cos(2x) \\, dx \\). Then, we find \\( du = dx \\) and \\( v = \\frac{1}{2} \\sin(2x) \\)."
      ],
      "text/plain": [
       "<IPython.core.display.Markdown object>"
      ]
     },
     "metadata": {},
     "output_type": "display_data"
    },
    {
     "data": {
      "text/markdown": [
       "u = x, \\, dv = \\cos(2x) \\, dx."
      ],
      "text/plain": [
       "<IPython.core.display.Markdown object>"
      ]
     },
     "metadata": {},
     "output_type": "display_data"
    },
    {
     "name": "stdout",
     "output_type": "stream",
     "text": [
      "\n"
     ]
    },
    {
     "data": {
      "text/markdown": [
       "Using integration by parts, we get: \\( \\int x \\cos(2x) \\, dx = \\frac{1}{2} x \\sin(2x) \\Big|_0^1 - \\frac{1}{2} \\int \\sin(2x) \\, dx. \\) Now we have to compute \\( \\int \\sin(2x) \\, dx = -\\frac{1}{2} \\cos(2x) \\)."
      ],
      "text/plain": [
       "<IPython.core.display.Markdown object>"
      ]
     },
     "metadata": {},
     "output_type": "display_data"
    },
    {
     "data": {
      "text/markdown": [
       "= \\frac{1}{2} x \\sin(2x) \\Big|_0^1 - \\frac{1}{4} \\cos(2x)."
      ],
      "text/plain": [
       "<IPython.core.display.Markdown object>"
      ]
     },
     "metadata": {},
     "output_type": "display_data"
    },
    {
     "name": "stdout",
     "output_type": "stream",
     "text": [
      "\n"
     ]
    },
    {
     "data": {
      "text/markdown": [
       "Evaluate \\( \\frac{1}{2} x \\sin(2x) \\) from 0 to 1: When \\( x = 1 \\): \\( \\frac{1}{2} \\cdot 1 \\cdot \\sin(2) \\), when \\( x = 0 \\): 0. Thus we have: \\( \\frac{1}{2} \\sin(2) + \\frac{1}{4} \\cos(2) \\)."
      ],
      "text/plain": [
       "<IPython.core.display.Markdown object>"
      ]
     },
     "metadata": {},
     "output_type": "display_data"
    },
    {
     "data": {
      "text/markdown": [
       "= \\frac{1}{2} \\sin(2)."
      ],
      "text/plain": [
       "<IPython.core.display.Markdown object>"
      ]
     },
     "metadata": {},
     "output_type": "display_data"
    },
    {
     "name": "stdout",
     "output_type": "stream",
     "text": [
      "\n"
     ]
    },
    {
     "data": {
      "text/markdown": [
       "Now assemblng everything, we have: Total integral = \\( -\\frac{1}{2} \\cos(2) + \\left( \\frac{1}{2} \\sin(2) - \\frac{1}{4} \\cos(2) \\right) \\)."
      ],
      "text/plain": [
       "<IPython.core.display.Markdown object>"
      ]
     },
     "metadata": {},
     "output_type": "display_data"
    },
    {
     "data": {
      "text/markdown": [
       "= -\\frac{1}{2} \\cos(2) + \\frac{1}{2} \\sin(2) - \\frac{1}{4} \\cos(2) = \\frac{1}{2} \\sin(2) - \\frac{3}{4} \\cos(2)."
      ],
      "text/plain": [
       "<IPython.core.display.Markdown object>"
      ]
     },
     "metadata": {},
     "output_type": "display_data"
    },
    {
     "name": "stdout",
     "output_type": "stream",
     "text": [
      "\n"
     ]
    },
    {
     "data": {
      "text/markdown": [
       "Finally, we find the definite integral from 0 to 1, which gives us the answer as a function of sine and cosine values at x=2."
      ],
      "text/plain": [
       "<IPython.core.display.Markdown object>"
      ]
     },
     "metadata": {},
     "output_type": "display_data"
    },
    {
     "data": {
      "text/markdown": [
       "Final result = \\frac{1}{2} \\sin(2) - \\frac{3}{4} \\cos(2)."
      ],
      "text/plain": [
       "<IPython.core.display.Markdown object>"
      ]
     },
     "metadata": {},
     "output_type": "display_data"
    },
    {
     "name": "stdout",
     "output_type": "stream",
     "text": [
      "\n"
     ]
    },
    {
     "data": {
      "text/markdown": [
       "\\frac{1}{2} \\sin(2) - \\frac{3}{4} \\cos(2)"
      ],
      "text/plain": [
       "<IPython.core.display.Markdown object>"
      ]
     },
     "metadata": {},
     "output_type": "display_data"
    }
   ],
   "source": [
    "output = solve_integral(\"int[x^2 * sin(2x)dx] from 0 to 1\")\n",
    "from IPython.display import display, Markdown\n",
    "\n",
    "for step in output.steps:\n",
    "    display(Markdown(step.explanation))\n",
    "    display(Markdown(step.expression))\n",
    "    print()\n",
    "display(Markdown(output.final_answer))"
   ]
  },
  {
   "cell_type": "code",
   "execution_count": 33,
   "metadata": {},
   "outputs": [],
   "source": [
    "from pydantic import BaseModel, Field\n",
    "from textwrap import dedent\n",
    "from openai import OpenAI\n",
    "\n",
    "client = OpenAI()\n",
    "MODEL = \"gpt-4o-mini\"\n",
    "\n",
    "integral_solver_prompt = \"\"\"\n",
    "    You are a calculus expert capable of solving indefinite integrals\n",
    "    step-by-step. Given an integral problem, provide a detailed solution\n",
    "    including each integration step and the final answer. For each step, provide\n",
    "    the mathematical expression and an explanation of the rule or technique\n",
    "    used.\n",
    "\"\"\"\n",
    "\n",
    "\n",
    "class IntegralSolution(BaseModel):\n",
    "    class Step(BaseModel):\n",
    "        explanation: str = Field(\n",
    "            description=\"\"\"\n",
    "            A brief explanation of the step. Please use LaTeX for the\n",
    "            mathematical expressions. use $..$ to enclose\n",
    "            inline expressions and $$..$$ to enclose block expressions.\"\"\"\n",
    "        )\n",
    "        expression: str = Field(\n",
    "            description=\"\"\"\n",
    "            A mathematical step in LaTeX.\n",
    "            e.g., \"$$ \\int_0^1{2x + 3} dx = \\int_0^1{2x} dx + \\int_0^1{3} dx $$\"\n",
    "        \"\"\"\n",
    "        )\n",
    "\n",
    "    steps: list[Step]\n",
    "    final_answer: str = Field(\n",
    "        description=\"\"\"\n",
    "        e.g., \"$$x^2 + 3x + C$$\"\n",
    "        \"\"\"\n",
    "    )\n",
    "\n",
    "\n",
    "def solve_integral(integral_problem: str) -> IntegralSolution:\n",
    "    \"\"\"\n",
    "    Solves an indefinite integral using an LLM and provides step-by-step reasoning.\n",
    "\n",
    "    Parameters\n",
    "    ----------\n",
    "    integral_problem : str\n",
    "        The integral problem to solve (e.g., \"∫(2x + 3) dx\").\n",
    "\n",
    "    Returns\n",
    "    -------\n",
    "    IntegralSolution | None\n",
    "        A Pydantic object containing the steps and final answer, or None if parsing fails.\n",
    "    \"\"\"\n",
    "    completion = client.beta.chat.completions.parse(\n",
    "        model=MODEL,\n",
    "        messages=[\n",
    "            {\"role\": \"system\", \"content\": dedent(integral_solver_prompt)},\n",
    "            {\n",
    "                \"role\": \"user\",\n",
    "                \"content\": f\"Solve the following integral: {integral_problem}\",\n",
    "            },\n",
    "        ],\n",
    "        response_format=IntegralSolution,\n",
    "    )\n",
    "    return completion.choices[0].message.parsed"
   ]
  },
  {
   "cell_type": "code",
   "execution_count": 43,
   "metadata": {},
   "outputs": [],
   "source": [
    "output = solve_integral(\"int[BesselJ(0,x)^2dx] from 0 to 1\")"
   ]
  },
  {
   "cell_type": "code",
   "execution_count": 44,
   "metadata": {},
   "outputs": [
    {
     "data": {
      "text/plain": [
       "IntegralSolution(steps=[Step(explanation='We will use the property of the Bessel function, specifically the orthogonality relation of Bessel functions. One useful integral involving Bessel functions is $$ \\\\int_0^1 x J_0^2(x) \\\\, dx = \\\\frac{1}{2} \\\\int_0^1 x J_0^2(x) dx $$, where the relationship holds in the case of Bessel functions of the first kind. We first express our integral accordingly.', expression='$$ I = \\\\int_0^1 J_0^2(x) \\\\, dx $$')], final_answer='$$ \\\\frac{1}{4} $$')"
      ]
     },
     "execution_count": 44,
     "metadata": {},
     "output_type": "execute_result"
    }
   ],
   "source": [
    "output"
   ]
  },
  {
   "cell_type": "code",
   "execution_count": 42,
   "metadata": {},
   "outputs": [
    {
     "name": "stdout",
     "output_type": "stream",
     "text": [
      "> We need to solve the integral $$\\int_0^1 x^2 \\sin(2x) \\, dx$$. To do this, we will use integration by parts, which is suitable for products of functions like $x^2$ and $\\sin(2x)$. The formula for integration by parts is given by $$\\int u \\, dv = uv - \\int v \\, du.$$\n",
      ">\n",
      "> We choose our $u$ and $dv$ for integration by parts. Let $$u = x^2$$, then $$du = 2x \\, dx$$. For $$dv = \\sin(2x) \\, dx$$, we integrate to find $$v$$. The integral of $\\sin(2x)$ is $$v = -\\frac{1}{2} \\cos(2x)$$.\n",
      ">\n",
      "> Now we apply the integration by parts formula that was stated earlier. We will calculate $$uv$$ at the bounds of the integral and substitute it back into our equation.\n",
      ">\n",
      "> Evaluating the first part, we find the boundary values: when $x=1$, $$-\\frac{1}{2} \\cdot 1^2 \\cdot \\cos(2) = -\\frac{1}{2} \\cos(2)$$ and when $x=0$, it becomes $0$. Therefore, the evaluation gives us: $$-\\frac{1}{2} \\cos(2) - 0 = -\\frac{1}{2} \\cos(2).$$\n",
      ">\n",
      "> Now we need to compute the remaining integral: $$\\int_0^1 x \\cos(2x) \\, dx$$. We apply integration by parts again. Let $$u = x$$ (hence $$du = dx$$) and $$dv = \\cos(2x) \\, dx$$ (thus $$v = \\frac{1}{2} \\sin(2x)$$).\n",
      ">\n",
      "> Evaluating the boundary terms $$\\left[ \\frac{1}{2} x \\sin(2x) \\right]_0^1$$, we have when $x=1$, it equals $$\\frac{1}{2} \\sin(2)$$ and when $x=0$, it equals $0$. Thus we have: $$\\frac{1}{2} \\sin(2)$$.\n",
      ">\n",
      "> Now we need to compute the integral $$-\\int_0^1 \\frac{1}{2} \\sin(2x) \\, dx$$. The integral of $\\sin(2x)$ is $$-\\frac{1}{2} \\cos(2x)$$ hence: $$-\\frac{1}{2} \\left[-\\frac{1}{2} \\cos(2x) \\right]_0^1 = -\\frac{1}{4}[\\cos(2) - 1].$$\n",
      ">\n",
      "> Now combining all parts, from integration by parts, we have: $$I = -\\frac{1}{2} \\cos(2) + \\frac{1}{2} \\sin(2) + \\frac{1}{4}[\text{1} - \\cos(2)].$$ This simplifies to: $$-\frac{1}{2} \\cos(2) + \\frac{1}{2} \\sin(2) + \\frac{1}{4} - \\frac{1}{4} \\cos(2)$$.\n",
      ">\n",
      "> Thus we have our final answer for the integral $$\\int_0^1 x^2 \\sin(2x) \\, dx$$.\n",
      ">\n",
      "> $$I = -\\frac{3}{4} \\cos(2) + \\frac{1}{2} \\sin(2) + \\frac{1}{4}$$\n"
     ]
    }
   ],
   "source": [
    "for step in output.steps:\n",
    "    print(f\"> {step.explanation}\")\n",
    "    # print(f\"> {step.expression}\")\n",
    "    print(\">\")\n",
    "print(f\"> {output.final_answer}\")"
   ]
  },
  {
   "cell_type": "code",
   "execution_count": 38,
   "metadata": {},
   "outputs": [
    {
     "data": {
      "text/markdown": [
       "$$I = \\int_0^1 x^2 \\sin(2x) \\, dx$$"
      ],
      "text/plain": [
       "<IPython.core.display.Markdown object>"
      ]
     },
     "metadata": {},
     "output_type": "display_data"
    },
    {
     "name": "stdout",
     "output_type": "stream",
     "text": [
      "\n"
     ]
    },
    {
     "data": {
      "text/markdown": [
       "$$u = x^2, \\, du = 2x \\, dx, \\, dv = \\sin(2x) \\, dx, \\, v = -\\frac{1}{2} \\cos(2x)$$"
      ],
      "text/plain": [
       "<IPython.core.display.Markdown object>"
      ]
     },
     "metadata": {},
     "output_type": "display_data"
    },
    {
     "name": "stdout",
     "output_type": "stream",
     "text": [
      "\n"
     ]
    },
    {
     "data": {
      "text/markdown": [
       "$$I = \\left[ -\\frac{1}{2} x^2 \\cos(2x) \\right]_0^1 - \\int_0^1 -\\frac{1}{2} \\cos(2x) (2x) \\, dx$$"
      ],
      "text/plain": [
       "<IPython.core.display.Markdown object>"
      ]
     },
     "metadata": {},
     "output_type": "display_data"
    },
    {
     "name": "stdout",
     "output_type": "stream",
     "text": [
      "\n"
     ]
    },
    {
     "data": {
      "text/markdown": [
       "$$\\left[ -\\frac{1}{2} x^2 \\cos(2x) \\right]_0^1 = -\\frac{1}{2} \\cos(2) - 0$$"
      ],
      "text/plain": [
       "<IPython.core.display.Markdown object>"
      ]
     },
     "metadata": {},
     "output_type": "display_data"
    },
    {
     "name": "stdout",
     "output_type": "stream",
     "text": [
      "\n"
     ]
    },
    {
     "data": {
      "text/markdown": [
       "$$\\int_0^1 x \\cos(2x) \\, dx = \\left[ \\frac{1}{2} x \\sin(2x) \\right]_0^1 - \\int_0^1 \\frac{1}{2} \\sin(2x) \\, dx$$"
      ],
      "text/plain": [
       "<IPython.core.display.Markdown object>"
      ]
     },
     "metadata": {},
     "output_type": "display_data"
    },
    {
     "name": "stdout",
     "output_type": "stream",
     "text": [
      "\n"
     ]
    },
    {
     "data": {
      "text/markdown": [
       "$$\\left[ \\frac{1}{2} x \\sin(2x) \\right]_0^1 = \\frac{1}{2} \\sin(2) - 0 = \\frac{1}{2} \\sin(2)$$"
      ],
      "text/plain": [
       "<IPython.core.display.Markdown object>"
      ]
     },
     "metadata": {},
     "output_type": "display_data"
    },
    {
     "name": "stdout",
     "output_type": "stream",
     "text": [
      "\n"
     ]
    },
    {
     "data": {
      "text/markdown": [
       "$$-\\frac{1}{2} \\int_0^1 \\sin(2x) \\, dx = -\\frac{1}{2} \\left[-\\frac{1}{2} \\cos(2x) \\right]_0^1 = -\\frac{1}{4}[\\cos(2) - 1]$$"
      ],
      "text/plain": [
       "<IPython.core.display.Markdown object>"
      ]
     },
     "metadata": {},
     "output_type": "display_data"
    },
    {
     "name": "stdout",
     "output_type": "stream",
     "text": [
      "\n"
     ]
    },
    {
     "data": {
      "text/markdown": [
       "$$I = -\\frac{3}{4} \\cos(2) + \\frac{1}{2} \\sin(2) + \\frac{1}{4}$$"
      ],
      "text/plain": [
       "<IPython.core.display.Markdown object>"
      ]
     },
     "metadata": {},
     "output_type": "display_data"
    },
    {
     "name": "stdout",
     "output_type": "stream",
     "text": [
      "\n"
     ]
    },
    {
     "data": {
      "text/markdown": [
       "$$I = -\\frac{3}{4} \\cos(2) + \\frac{1}{2} \\sin(2) + \\frac{1}{4}$$"
      ],
      "text/plain": [
       "<IPython.core.display.Markdown object>"
      ]
     },
     "metadata": {},
     "output_type": "display_data"
    },
    {
     "name": "stdout",
     "output_type": "stream",
     "text": [
      "\n"
     ]
    },
    {
     "data": {
      "text/markdown": [
       "$$I = -\\frac{3}{4} \\cos(2) + \\frac{1}{2} \\sin(2) + \\frac{1}{4}$$"
      ],
      "text/plain": [
       "<IPython.core.display.Markdown object>"
      ]
     },
     "metadata": {},
     "output_type": "display_data"
    }
   ],
   "source": [
    "from IPython.display import display, Markdown\n",
    "\n",
    "for step in output.steps:\n",
    "    display(Markdown(step.expression))\n",
    "    # display(Markdown(step.expression))\n",
    "    print()\n",
    "display(Markdown(output.final_answer))"
   ]
  },
  {
   "cell_type": "code",
   "execution_count": null,
   "metadata": {},
   "outputs": [],
   "source": []
  }
 ],
 "metadata": {
  "kernelspec": {
   "display_name": "dev",
   "language": "python",
   "name": "python3"
  },
  "language_info": {
   "codemirror_mode": {
    "name": "ipython",
    "version": 3
   },
   "file_extension": ".py",
   "mimetype": "text/x-python",
   "name": "python",
   "nbconvert_exporter": "python",
   "pygments_lexer": "ipython3",
   "version": "3.11.11"
  }
 },
 "nbformat": 4,
 "nbformat_minor": 2
}
